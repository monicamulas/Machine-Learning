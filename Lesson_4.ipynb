{
  "nbformat": 4,
  "nbformat_minor": 0,
  "metadata": {
    "colab": {
      "name": "Lezione4.ipynb",
      "provenance": [],
      "collapsed_sections": []
    },
    "kernelspec": {
      "name": "python3",
      "display_name": "Python 3"
    },
    "language_info": {
      "name": "python"
    }
  },
  "cells": [
    {
      "cell_type": "code",
      "source": [
        "runs.plot.scatter(x='year', y='time')"
      ],
      "metadata": {
        "colab": {
          "base_uri": "https://localhost:8080/",
          "height": 168
        },
        "id": "y1JGiu8DE400",
        "outputId": "a0d77594-15cc-4894-a714-acd40e539a68"
      },
      "execution_count": null,
      "outputs": [
        {
          "output_type": "error",
          "ename": "NameError",
          "evalue": "ignored",
          "traceback": [
            "\u001b[0;31m---------------------------------------------------------------------------\u001b[0m",
            "\u001b[0;31mNameError\u001b[0m                                 Traceback (most recent call last)",
            "\u001b[0;32m<ipython-input-3-0b5f23db5afe>\u001b[0m in \u001b[0;36m<module>\u001b[0;34m()\u001b[0m\n\u001b[0;32m----> 1\u001b[0;31m \u001b[0mruns\u001b[0m\u001b[0;34m.\u001b[0m\u001b[0mplot\u001b[0m\u001b[0;34m.\u001b[0m\u001b[0mscatter\u001b[0m\u001b[0;34m(\u001b[0m\u001b[0mx\u001b[0m\u001b[0;34m=\u001b[0m\u001b[0;34m'year'\u001b[0m\u001b[0;34m,\u001b[0m \u001b[0my\u001b[0m\u001b[0;34m=\u001b[0m\u001b[0;34m'time'\u001b[0m\u001b[0;34m)\u001b[0m\u001b[0;34m\u001b[0m\u001b[0;34m\u001b[0m\u001b[0m\n\u001b[0m",
            "\u001b[0;31mNameError\u001b[0m: name 'runs' is not defined"
          ]
        }
      ]
    },
    {
      "cell_type": "code",
      "source": [
        "runs[runs.type==1]['time']"
      ],
      "metadata": {
        "colab": {
          "base_uri": "https://localhost:8080/"
        },
        "id": "L_JgJxYLFpY2",
        "outputId": "45fa099f-193c-49be-edde-6bf2b11b94a8"
      },
      "execution_count": null,
      "outputs": [
        {
          "output_type": "execute_result",
          "data": {
            "text/plain": [
              "0      9.69\n",
              "1      9.72\n",
              "2      9.74\n",
              "3      9.77\n",
              "4      9.77\n",
              "5      9.77\n",
              "6      9.77\n",
              "7      9.78\n",
              "8      9.79\n",
              "9      9.84\n",
              "10     9.85\n",
              "11     9.86\n",
              "12     9.90\n",
              "13     9.92\n",
              "14     9.93\n",
              "15     9.93\n",
              "16     9.93\n",
              "17     9.95\n",
              "18    10.02\n",
              "19    10.03\n",
              "20    10.06\n",
              "21    10.25\n",
              "22    10.29\n",
              "23    10.32\n",
              "24    10.32\n",
              "25    10.34\n",
              "26    10.38\n",
              "27    10.38\n",
              "28    10.53\n",
              "29    10.64\n",
              "Name: time, dtype: float64"
            ]
          },
          "metadata": {},
          "execution_count": 5
        }
      ]
    },
    {
      "cell_type": "code",
      "source": [
        "runs[runs.type==2]['time']"
      ],
      "metadata": {
        "colab": {
          "base_uri": "https://localhost:8080/"
        },
        "id": "b0xVqhNKF9uC",
        "outputId": "40647723-b3e5-4b70-ec85-c96cb91a8ff2"
      },
      "execution_count": null,
      "outputs": [
        {
          "output_type": "execute_result",
          "data": {
            "text/plain": [
              "30    10.49\n",
              "31    10.76\n",
              "32    10.79\n",
              "33    10.81\n",
              "34    10.87\n",
              "35    10.88\n",
              "36    10.88\n",
              "37    11.01\n",
              "38    11.04\n",
              "39    11.07\n",
              "40    11.07\n",
              "41    11.08\n",
              "42    11.21\n",
              "43    11.23\n",
              "44    11.41\n",
              "45    11.65\n",
              "46    11.65\n",
              "47    11.72\n",
              "48    11.86\n",
              "49    12.18\n",
              "50    12.18\n",
              "Name: time, dtype: float64"
            ]
          },
          "metadata": {},
          "execution_count": 6
        }
      ]
    },
    {
      "cell_type": "code",
      "execution_count": null,
      "metadata": {
        "colab": {
          "base_uri": "https://localhost:8080/",
          "height": 1000
        },
        "id": "cV-FyWT2EDS7",
        "outputId": "3c059c91-d393-4ef6-ae51-d309377d2183"
      },
      "outputs": [
        {
          "output_type": "execute_result",
          "data": {
            "text/plain": [
              "    year   time  type                  athelete country\n",
              "0   2008   9.69     1                Usain Bolt   (JAM)\n",
              "1   2008   9.72     1                Usain Bolt   (JAM)\n",
              "2   2007   9.74     1              Asafa Powell   (JAM)\n",
              "3   2006   9.77     1              Asafa Powell   (JAM)\n",
              "4   2006   9.77     1              Asafa Powell   (JAM)\n",
              "5   2006   9.77     1             Justin Gatlin   (USA)\n",
              "6   2005   9.77     1              Asafa Powell   (JAM)\n",
              "7   2002   9.78     1            Tim Montgomery   (USA)\n",
              "8   1999   9.79     1            Maurice Greene   (USA)\n",
              "9   1996   9.84     1            Donovan Bailey   (CAN)\n",
              "10  1994   9.85     1             Leroy Burrell   (USA)\n",
              "11  1991   9.86     1                Carl Lewis   (USA)\n",
              "12  1991   9.90     1             Leroy Burrell   (USA)\n",
              "13  1988   9.92     1                Carl Lewis   (USA)\n",
              "14  1988   9.93     1                Carl Lewis   (USA)\n",
              "15  1987   9.93     1                Carl Lewis   (USA)\n",
              "16  1983   9.93     1              Calvin Smith   (USA)\n",
              "17  1968   9.95     1                 Jim Hines   (USA)\n",
              "18  1968  10.02     1            Charles Greene   (USA)\n",
              "19  1968  10.03     1                 Jim Hines   (USA)\n",
              "20  1964  10.06     1              Robert Hayes   (USA)\n",
              "21  1960  10.25     1                Armin Hary   (FRG)\n",
              "22  1958  10.29     1             Peter Radford   (GBR)\n",
              "23  1958  10.32     1          Jocelyn Delecour   (FRA)\n",
              "24  1958  10.32     1                Ray Norton   (USA)\n",
              "25  1948  10.34     1              Barney Ewell   (USA)\n",
              "26  1932  10.38     1            Ralph Metcalfe   (USA)\n",
              "27  1932  10.38     1               Eddie Tolan   (USA)\n",
              "28  1932  10.53     1               Eddie Tolan   (USA)\n",
              "29  1932  10.64     1            Ralph Metcalfe   (USA)\n",
              "30  1988  10.49     2  Florence Griffith Joyner   (USA)\n",
              "31  1984  10.76     2            Evelyn Ashford   (USA)\n",
              "32  1983  10.79     2            Evelyn Ashford   (USA)\n",
              "33  1983  10.81     2              Marlies Göhr   (GDR)\n",
              "34  1980  10.87     2      Lyudmila Kondratyeva   (URS)\n",
              "35  1982  10.88     2      Marlies Oelsner/Göhr   (GDR)\n",
              "36  1977  10.88     2           Marlies Oelsner   (GDR)\n",
              "37  1976  11.01     2          Annegret Richter   (FRG)\n",
              "38  1976  11.04     2               Inge Helten   (FRG)\n",
              "39  1973  11.07     2            Renate Stecher   (GDR)\n",
              "40  1972  11.07     2            Renate Stecher   (GDR)\n",
              "41  1968  11.08     2               Wyomia Tyus   (USA)\n",
              "42  1968  11.21     2               Wyomia Tyus   (USA)\n",
              "43  1964  11.23     2               Wyomia Tyus   (USA)\n",
              "44  1960  11.41     2             Wilma Rudolph   (USA)\n",
              "45  1960  11.65     2             Wilma Rudolph   (USA)\n",
              "46  1952  11.65     2          Marjorie Jackson   (AUS)\n",
              "47  1952  11.72     2          Marjorie Jackson   (AUS)\n",
              "48  1952  11.86     2          Marjorie Jackson   (AUS)\n",
              "49  1952  12.18     2           Catherine Hardy   (USA)\n",
              "50  1952  12.18     2            Winsome Cripps   (AUS)"
            ],
            "text/html": [
              "\n",
              "  <div id=\"df-eaa9a425-f331-48ee-8528-f01f823b7766\">\n",
              "    <div class=\"colab-df-container\">\n",
              "      <div>\n",
              "<style scoped>\n",
              "    .dataframe tbody tr th:only-of-type {\n",
              "        vertical-align: middle;\n",
              "    }\n",
              "\n",
              "    .dataframe tbody tr th {\n",
              "        vertical-align: top;\n",
              "    }\n",
              "\n",
              "    .dataframe thead th {\n",
              "        text-align: right;\n",
              "    }\n",
              "</style>\n",
              "<table border=\"1\" class=\"dataframe\">\n",
              "  <thead>\n",
              "    <tr style=\"text-align: right;\">\n",
              "      <th></th>\n",
              "      <th>year</th>\n",
              "      <th>time</th>\n",
              "      <th>type</th>\n",
              "      <th>athelete</th>\n",
              "      <th>country</th>\n",
              "    </tr>\n",
              "  </thead>\n",
              "  <tbody>\n",
              "    <tr>\n",
              "      <th>0</th>\n",
              "      <td>2008</td>\n",
              "      <td>9.69</td>\n",
              "      <td>1</td>\n",
              "      <td>Usain Bolt</td>\n",
              "      <td>(JAM)</td>\n",
              "    </tr>\n",
              "    <tr>\n",
              "      <th>1</th>\n",
              "      <td>2008</td>\n",
              "      <td>9.72</td>\n",
              "      <td>1</td>\n",
              "      <td>Usain Bolt</td>\n",
              "      <td>(JAM)</td>\n",
              "    </tr>\n",
              "    <tr>\n",
              "      <th>2</th>\n",
              "      <td>2007</td>\n",
              "      <td>9.74</td>\n",
              "      <td>1</td>\n",
              "      <td>Asafa Powell</td>\n",
              "      <td>(JAM)</td>\n",
              "    </tr>\n",
              "    <tr>\n",
              "      <th>3</th>\n",
              "      <td>2006</td>\n",
              "      <td>9.77</td>\n",
              "      <td>1</td>\n",
              "      <td>Asafa Powell</td>\n",
              "      <td>(JAM)</td>\n",
              "    </tr>\n",
              "    <tr>\n",
              "      <th>4</th>\n",
              "      <td>2006</td>\n",
              "      <td>9.77</td>\n",
              "      <td>1</td>\n",
              "      <td>Asafa Powell</td>\n",
              "      <td>(JAM)</td>\n",
              "    </tr>\n",
              "    <tr>\n",
              "      <th>5</th>\n",
              "      <td>2006</td>\n",
              "      <td>9.77</td>\n",
              "      <td>1</td>\n",
              "      <td>Justin Gatlin</td>\n",
              "      <td>(USA)</td>\n",
              "    </tr>\n",
              "    <tr>\n",
              "      <th>6</th>\n",
              "      <td>2005</td>\n",
              "      <td>9.77</td>\n",
              "      <td>1</td>\n",
              "      <td>Asafa Powell</td>\n",
              "      <td>(JAM)</td>\n",
              "    </tr>\n",
              "    <tr>\n",
              "      <th>7</th>\n",
              "      <td>2002</td>\n",
              "      <td>9.78</td>\n",
              "      <td>1</td>\n",
              "      <td>Tim Montgomery</td>\n",
              "      <td>(USA)</td>\n",
              "    </tr>\n",
              "    <tr>\n",
              "      <th>8</th>\n",
              "      <td>1999</td>\n",
              "      <td>9.79</td>\n",
              "      <td>1</td>\n",
              "      <td>Maurice Greene</td>\n",
              "      <td>(USA)</td>\n",
              "    </tr>\n",
              "    <tr>\n",
              "      <th>9</th>\n",
              "      <td>1996</td>\n",
              "      <td>9.84</td>\n",
              "      <td>1</td>\n",
              "      <td>Donovan Bailey</td>\n",
              "      <td>(CAN)</td>\n",
              "    </tr>\n",
              "    <tr>\n",
              "      <th>10</th>\n",
              "      <td>1994</td>\n",
              "      <td>9.85</td>\n",
              "      <td>1</td>\n",
              "      <td>Leroy Burrell</td>\n",
              "      <td>(USA)</td>\n",
              "    </tr>\n",
              "    <tr>\n",
              "      <th>11</th>\n",
              "      <td>1991</td>\n",
              "      <td>9.86</td>\n",
              "      <td>1</td>\n",
              "      <td>Carl Lewis</td>\n",
              "      <td>(USA)</td>\n",
              "    </tr>\n",
              "    <tr>\n",
              "      <th>12</th>\n",
              "      <td>1991</td>\n",
              "      <td>9.90</td>\n",
              "      <td>1</td>\n",
              "      <td>Leroy Burrell</td>\n",
              "      <td>(USA)</td>\n",
              "    </tr>\n",
              "    <tr>\n",
              "      <th>13</th>\n",
              "      <td>1988</td>\n",
              "      <td>9.92</td>\n",
              "      <td>1</td>\n",
              "      <td>Carl Lewis</td>\n",
              "      <td>(USA)</td>\n",
              "    </tr>\n",
              "    <tr>\n",
              "      <th>14</th>\n",
              "      <td>1988</td>\n",
              "      <td>9.93</td>\n",
              "      <td>1</td>\n",
              "      <td>Carl Lewis</td>\n",
              "      <td>(USA)</td>\n",
              "    </tr>\n",
              "    <tr>\n",
              "      <th>15</th>\n",
              "      <td>1987</td>\n",
              "      <td>9.93</td>\n",
              "      <td>1</td>\n",
              "      <td>Carl Lewis</td>\n",
              "      <td>(USA)</td>\n",
              "    </tr>\n",
              "    <tr>\n",
              "      <th>16</th>\n",
              "      <td>1983</td>\n",
              "      <td>9.93</td>\n",
              "      <td>1</td>\n",
              "      <td>Calvin Smith</td>\n",
              "      <td>(USA)</td>\n",
              "    </tr>\n",
              "    <tr>\n",
              "      <th>17</th>\n",
              "      <td>1968</td>\n",
              "      <td>9.95</td>\n",
              "      <td>1</td>\n",
              "      <td>Jim Hines</td>\n",
              "      <td>(USA)</td>\n",
              "    </tr>\n",
              "    <tr>\n",
              "      <th>18</th>\n",
              "      <td>1968</td>\n",
              "      <td>10.02</td>\n",
              "      <td>1</td>\n",
              "      <td>Charles Greene</td>\n",
              "      <td>(USA)</td>\n",
              "    </tr>\n",
              "    <tr>\n",
              "      <th>19</th>\n",
              "      <td>1968</td>\n",
              "      <td>10.03</td>\n",
              "      <td>1</td>\n",
              "      <td>Jim Hines</td>\n",
              "      <td>(USA)</td>\n",
              "    </tr>\n",
              "    <tr>\n",
              "      <th>20</th>\n",
              "      <td>1964</td>\n",
              "      <td>10.06</td>\n",
              "      <td>1</td>\n",
              "      <td>Robert Hayes</td>\n",
              "      <td>(USA)</td>\n",
              "    </tr>\n",
              "    <tr>\n",
              "      <th>21</th>\n",
              "      <td>1960</td>\n",
              "      <td>10.25</td>\n",
              "      <td>1</td>\n",
              "      <td>Armin Hary</td>\n",
              "      <td>(FRG)</td>\n",
              "    </tr>\n",
              "    <tr>\n",
              "      <th>22</th>\n",
              "      <td>1958</td>\n",
              "      <td>10.29</td>\n",
              "      <td>1</td>\n",
              "      <td>Peter Radford</td>\n",
              "      <td>(GBR)</td>\n",
              "    </tr>\n",
              "    <tr>\n",
              "      <th>23</th>\n",
              "      <td>1958</td>\n",
              "      <td>10.32</td>\n",
              "      <td>1</td>\n",
              "      <td>Jocelyn Delecour</td>\n",
              "      <td>(FRA)</td>\n",
              "    </tr>\n",
              "    <tr>\n",
              "      <th>24</th>\n",
              "      <td>1958</td>\n",
              "      <td>10.32</td>\n",
              "      <td>1</td>\n",
              "      <td>Ray Norton</td>\n",
              "      <td>(USA)</td>\n",
              "    </tr>\n",
              "    <tr>\n",
              "      <th>25</th>\n",
              "      <td>1948</td>\n",
              "      <td>10.34</td>\n",
              "      <td>1</td>\n",
              "      <td>Barney Ewell</td>\n",
              "      <td>(USA)</td>\n",
              "    </tr>\n",
              "    <tr>\n",
              "      <th>26</th>\n",
              "      <td>1932</td>\n",
              "      <td>10.38</td>\n",
              "      <td>1</td>\n",
              "      <td>Ralph Metcalfe</td>\n",
              "      <td>(USA)</td>\n",
              "    </tr>\n",
              "    <tr>\n",
              "      <th>27</th>\n",
              "      <td>1932</td>\n",
              "      <td>10.38</td>\n",
              "      <td>1</td>\n",
              "      <td>Eddie Tolan</td>\n",
              "      <td>(USA)</td>\n",
              "    </tr>\n",
              "    <tr>\n",
              "      <th>28</th>\n",
              "      <td>1932</td>\n",
              "      <td>10.53</td>\n",
              "      <td>1</td>\n",
              "      <td>Eddie Tolan</td>\n",
              "      <td>(USA)</td>\n",
              "    </tr>\n",
              "    <tr>\n",
              "      <th>29</th>\n",
              "      <td>1932</td>\n",
              "      <td>10.64</td>\n",
              "      <td>1</td>\n",
              "      <td>Ralph Metcalfe</td>\n",
              "      <td>(USA)</td>\n",
              "    </tr>\n",
              "    <tr>\n",
              "      <th>30</th>\n",
              "      <td>1988</td>\n",
              "      <td>10.49</td>\n",
              "      <td>2</td>\n",
              "      <td>Florence Griffith Joyner</td>\n",
              "      <td>(USA)</td>\n",
              "    </tr>\n",
              "    <tr>\n",
              "      <th>31</th>\n",
              "      <td>1984</td>\n",
              "      <td>10.76</td>\n",
              "      <td>2</td>\n",
              "      <td>Evelyn Ashford</td>\n",
              "      <td>(USA)</td>\n",
              "    </tr>\n",
              "    <tr>\n",
              "      <th>32</th>\n",
              "      <td>1983</td>\n",
              "      <td>10.79</td>\n",
              "      <td>2</td>\n",
              "      <td>Evelyn Ashford</td>\n",
              "      <td>(USA)</td>\n",
              "    </tr>\n",
              "    <tr>\n",
              "      <th>33</th>\n",
              "      <td>1983</td>\n",
              "      <td>10.81</td>\n",
              "      <td>2</td>\n",
              "      <td>Marlies Göhr</td>\n",
              "      <td>(GDR)</td>\n",
              "    </tr>\n",
              "    <tr>\n",
              "      <th>34</th>\n",
              "      <td>1980</td>\n",
              "      <td>10.87</td>\n",
              "      <td>2</td>\n",
              "      <td>Lyudmila Kondratyeva</td>\n",
              "      <td>(URS)</td>\n",
              "    </tr>\n",
              "    <tr>\n",
              "      <th>35</th>\n",
              "      <td>1982</td>\n",
              "      <td>10.88</td>\n",
              "      <td>2</td>\n",
              "      <td>Marlies Oelsner/Göhr</td>\n",
              "      <td>(GDR)</td>\n",
              "    </tr>\n",
              "    <tr>\n",
              "      <th>36</th>\n",
              "      <td>1977</td>\n",
              "      <td>10.88</td>\n",
              "      <td>2</td>\n",
              "      <td>Marlies Oelsner</td>\n",
              "      <td>(GDR)</td>\n",
              "    </tr>\n",
              "    <tr>\n",
              "      <th>37</th>\n",
              "      <td>1976</td>\n",
              "      <td>11.01</td>\n",
              "      <td>2</td>\n",
              "      <td>Annegret Richter</td>\n",
              "      <td>(FRG)</td>\n",
              "    </tr>\n",
              "    <tr>\n",
              "      <th>38</th>\n",
              "      <td>1976</td>\n",
              "      <td>11.04</td>\n",
              "      <td>2</td>\n",
              "      <td>Inge Helten</td>\n",
              "      <td>(FRG)</td>\n",
              "    </tr>\n",
              "    <tr>\n",
              "      <th>39</th>\n",
              "      <td>1973</td>\n",
              "      <td>11.07</td>\n",
              "      <td>2</td>\n",
              "      <td>Renate Stecher</td>\n",
              "      <td>(GDR)</td>\n",
              "    </tr>\n",
              "    <tr>\n",
              "      <th>40</th>\n",
              "      <td>1972</td>\n",
              "      <td>11.07</td>\n",
              "      <td>2</td>\n",
              "      <td>Renate Stecher</td>\n",
              "      <td>(GDR)</td>\n",
              "    </tr>\n",
              "    <tr>\n",
              "      <th>41</th>\n",
              "      <td>1968</td>\n",
              "      <td>11.08</td>\n",
              "      <td>2</td>\n",
              "      <td>Wyomia Tyus</td>\n",
              "      <td>(USA)</td>\n",
              "    </tr>\n",
              "    <tr>\n",
              "      <th>42</th>\n",
              "      <td>1968</td>\n",
              "      <td>11.21</td>\n",
              "      <td>2</td>\n",
              "      <td>Wyomia Tyus</td>\n",
              "      <td>(USA)</td>\n",
              "    </tr>\n",
              "    <tr>\n",
              "      <th>43</th>\n",
              "      <td>1964</td>\n",
              "      <td>11.23</td>\n",
              "      <td>2</td>\n",
              "      <td>Wyomia Tyus</td>\n",
              "      <td>(USA)</td>\n",
              "    </tr>\n",
              "    <tr>\n",
              "      <th>44</th>\n",
              "      <td>1960</td>\n",
              "      <td>11.41</td>\n",
              "      <td>2</td>\n",
              "      <td>Wilma Rudolph</td>\n",
              "      <td>(USA)</td>\n",
              "    </tr>\n",
              "    <tr>\n",
              "      <th>45</th>\n",
              "      <td>1960</td>\n",
              "      <td>11.65</td>\n",
              "      <td>2</td>\n",
              "      <td>Wilma Rudolph</td>\n",
              "      <td>(USA)</td>\n",
              "    </tr>\n",
              "    <tr>\n",
              "      <th>46</th>\n",
              "      <td>1952</td>\n",
              "      <td>11.65</td>\n",
              "      <td>2</td>\n",
              "      <td>Marjorie Jackson</td>\n",
              "      <td>(AUS)</td>\n",
              "    </tr>\n",
              "    <tr>\n",
              "      <th>47</th>\n",
              "      <td>1952</td>\n",
              "      <td>11.72</td>\n",
              "      <td>2</td>\n",
              "      <td>Marjorie Jackson</td>\n",
              "      <td>(AUS)</td>\n",
              "    </tr>\n",
              "    <tr>\n",
              "      <th>48</th>\n",
              "      <td>1952</td>\n",
              "      <td>11.86</td>\n",
              "      <td>2</td>\n",
              "      <td>Marjorie Jackson</td>\n",
              "      <td>(AUS)</td>\n",
              "    </tr>\n",
              "    <tr>\n",
              "      <th>49</th>\n",
              "      <td>1952</td>\n",
              "      <td>12.18</td>\n",
              "      <td>2</td>\n",
              "      <td>Catherine Hardy</td>\n",
              "      <td>(USA)</td>\n",
              "    </tr>\n",
              "    <tr>\n",
              "      <th>50</th>\n",
              "      <td>1952</td>\n",
              "      <td>12.18</td>\n",
              "      <td>2</td>\n",
              "      <td>Winsome Cripps</td>\n",
              "      <td>(AUS)</td>\n",
              "    </tr>\n",
              "  </tbody>\n",
              "</table>\n",
              "</div>\n",
              "      <button class=\"colab-df-convert\" onclick=\"convertToInteractive('df-eaa9a425-f331-48ee-8528-f01f823b7766')\"\n",
              "              title=\"Convert this dataframe to an interactive table.\"\n",
              "              style=\"display:none;\">\n",
              "        \n",
              "  <svg xmlns=\"http://www.w3.org/2000/svg\" height=\"24px\"viewBox=\"0 0 24 24\"\n",
              "       width=\"24px\">\n",
              "    <path d=\"M0 0h24v24H0V0z\" fill=\"none\"/>\n",
              "    <path d=\"M18.56 5.44l.94 2.06.94-2.06 2.06-.94-2.06-.94-.94-2.06-.94 2.06-2.06.94zm-11 1L8.5 8.5l.94-2.06 2.06-.94-2.06-.94L8.5 2.5l-.94 2.06-2.06.94zm10 10l.94 2.06.94-2.06 2.06-.94-2.06-.94-.94-2.06-.94 2.06-2.06.94z\"/><path d=\"M17.41 7.96l-1.37-1.37c-.4-.4-.92-.59-1.43-.59-.52 0-1.04.2-1.43.59L10.3 9.45l-7.72 7.72c-.78.78-.78 2.05 0 2.83L4 21.41c.39.39.9.59 1.41.59.51 0 1.02-.2 1.41-.59l7.78-7.78 2.81-2.81c.8-.78.8-2.07 0-2.86zM5.41 20L4 18.59l7.72-7.72 1.47 1.35L5.41 20z\"/>\n",
              "  </svg>\n",
              "      </button>\n",
              "      \n",
              "  <style>\n",
              "    .colab-df-container {\n",
              "      display:flex;\n",
              "      flex-wrap:wrap;\n",
              "      gap: 12px;\n",
              "    }\n",
              "\n",
              "    .colab-df-convert {\n",
              "      background-color: #E8F0FE;\n",
              "      border: none;\n",
              "      border-radius: 50%;\n",
              "      cursor: pointer;\n",
              "      display: none;\n",
              "      fill: #1967D2;\n",
              "      height: 32px;\n",
              "      padding: 0 0 0 0;\n",
              "      width: 32px;\n",
              "    }\n",
              "\n",
              "    .colab-df-convert:hover {\n",
              "      background-color: #E2EBFA;\n",
              "      box-shadow: 0px 1px 2px rgba(60, 64, 67, 0.3), 0px 1px 3px 1px rgba(60, 64, 67, 0.15);\n",
              "      fill: #174EA6;\n",
              "    }\n",
              "\n",
              "    [theme=dark] .colab-df-convert {\n",
              "      background-color: #3B4455;\n",
              "      fill: #D2E3FC;\n",
              "    }\n",
              "\n",
              "    [theme=dark] .colab-df-convert:hover {\n",
              "      background-color: #434B5C;\n",
              "      box-shadow: 0px 1px 3px 1px rgba(0, 0, 0, 0.15);\n",
              "      filter: drop-shadow(0px 1px 2px rgba(0, 0, 0, 0.3));\n",
              "      fill: #FFFFFF;\n",
              "    }\n",
              "  </style>\n",
              "\n",
              "      <script>\n",
              "        const buttonEl =\n",
              "          document.querySelector('#df-eaa9a425-f331-48ee-8528-f01f823b7766 button.colab-df-convert');\n",
              "        buttonEl.style.display =\n",
              "          google.colab.kernel.accessAllowed ? 'block' : 'none';\n",
              "\n",
              "        async function convertToInteractive(key) {\n",
              "          const element = document.querySelector('#df-eaa9a425-f331-48ee-8528-f01f823b7766');\n",
              "          const dataTable =\n",
              "            await google.colab.kernel.invokeFunction('convertToInteractive',\n",
              "                                                     [key], {});\n",
              "          if (!dataTable) return;\n",
              "\n",
              "          const docLinkHtml = 'Like what you see? Visit the ' +\n",
              "            '<a target=\"_blank\" href=https://colab.research.google.com/notebooks/data_table.ipynb>data table notebook</a>'\n",
              "            + ' to learn more about interactive tables.';\n",
              "          element.innerHTML = '';\n",
              "          dataTable['output_type'] = 'display_data';\n",
              "          await google.colab.output.renderOutput(dataTable, element);\n",
              "          const docLink = document.createElement('div');\n",
              "          docLink.innerHTML = docLinkHtml;\n",
              "          element.appendChild(docLink);\n",
              "        }\n",
              "      </script>\n",
              "    </div>\n",
              "  </div>\n",
              "  "
            ]
          },
          "metadata": {},
          "execution_count": 1
        }
      ],
      "source": [
        "import pandas as pd\n",
        "import numpy as np\n",
        "import matplotlib.pyplot as plt\n",
        "\n",
        "!wget -q 'https://bortigno.web.cern.ch/bortigno/machine-learninig/datasets/dash-world-cleaned.txt'\n",
        "runs = pd.read_csv('dash-world-cleaned.txt', skiprows=[1], delimiter='\\t')\n",
        "runs"
      ]
    },
    {
      "cell_type": "code",
      "source": [
        "labels = ['men', 'women']\n",
        "runs1 = runs[runs.type==1]\n",
        "runs2 = runs[runs.type==2]\n",
        "plt.scatter(runs1['year'],runs1['time'],label=labels[0], c='g')\n",
        "plt.scatter(runs2['year'],runs2['time'],label=labels[1], c='b')\n",
        "plt.legend()\n",
        "plt.show()"
      ],
      "metadata": {
        "colab": {
          "base_uri": "https://localhost:8080/",
          "height": 265
        },
        "id": "OsAR6EN9GCuW",
        "outputId": "f0b9b078-6d69-4493-bdaf-f81bfff46946"
      },
      "execution_count": null,
      "outputs": [
        {
          "output_type": "display_data",
          "data": {
            "text/plain": [
              "<Figure size 432x288 with 1 Axes>"
            ],
            "image/png": "[encoded data removed]"
          },
          "metadata": {
            "needs_background": "light"
          }
        }
      ]
    },
    {
      "cell_type": "code",
      "source": [
        "#we'll now try to predict when women will be as fast as men\n",
        "from sklearn.model_selection import train_test_split\n",
        "from sklearn.linear_model import LinearRegression\n",
        "\n",
        "#men\n",
        "x_train, x_test, y_train, y_test = train_test_split(runs[runs.type==1]['year'], runs[runs.type==1]['time'],test_size=0.33,random_state=42)\n",
        "\n",
        "print(runs[runs.type==1]['year'].size)\n",
        "print(x_train.size)"
      ],
      "metadata": {
        "colab": {
          "base_uri": "https://localhost:8080/"
        },
        "id": "vK-jrtEYG9tG",
        "outputId": "dc81de8f-5cf0-4dff-9aa7-39d7e4b494f5"
      },
      "execution_count": null,
      "outputs": [
        {
          "output_type": "stream",
          "name": "stdout",
          "text": [
            "30\n",
            "20\n"
          ]
        }
      ]
    },
    {
      "cell_type": "code",
      "source": [
        "plt.scatter(x_train, y_train, label='test', c='b')\n",
        "plt.show()"
      ],
      "metadata": {
        "colab": {
          "base_uri": "https://localhost:8080/",
          "height": 265
        },
        "id": "giU811zxiqEP",
        "outputId": "eb6138ba-cac2-4496-b285-c4e9272744ee"
      },
      "execution_count": null,
      "outputs": [
        {
          "output_type": "display_data",
          "data": {
            "text/plain": [
              "<Figure size 432x288 with 1 Axes>"
            ],
            "image/png": "[encoded data removed]"
          },
          "metadata": {
            "needs_background": "light"
          }
        }
      ]
    },
    {
      "cell_type": "code",
      "source": [
        "lr = LinearRegression().fit(x_train, y_train)"
      ],
      "metadata": {
        "colab": {
          "base_uri": "https://localhost:8080/",
          "height": 475
        },
        "id": "lljq5brIkrQQ",
        "outputId": "f74cb271-bdd5-411d-acc8-37b2d4bf7a35"
      },
      "execution_count": null,
      "outputs": [
        {
          "output_type": "error",
          "ename": "ValueError",
          "evalue": "ignored",
          "traceback": [
            "\u001b[0;31m---------------------------------------------------------------------------\u001b[0m",
            "\u001b[0;31mValueError\u001b[0m                                Traceback (most recent call last)",
            "\u001b[0;32m<ipython-input-4-1147e8b32b4b>\u001b[0m in \u001b[0;36m<module>\u001b[0;34m()\u001b[0m\n\u001b[0;32m----> 1\u001b[0;31m \u001b[0mlr\u001b[0m \u001b[0;34m=\u001b[0m \u001b[0mLinearRegression\u001b[0m\u001b[0;34m(\u001b[0m\u001b[0;34m)\u001b[0m\u001b[0;34m.\u001b[0m\u001b[0mfit\u001b[0m\u001b[0;34m(\u001b[0m\u001b[0mx_train\u001b[0m\u001b[0;34m,\u001b[0m \u001b[0my_train\u001b[0m\u001b[0;34m)\u001b[0m\u001b[0;34m\u001b[0m\u001b[0;34m\u001b[0m\u001b[0m\n\u001b[0m",
            "\u001b[0;32m/usr/local/lib/python3.7/dist-packages/sklearn/linear_model/_base.py\u001b[0m in \u001b[0;36mfit\u001b[0;34m(self, X, y, sample_weight)\u001b[0m\n\u001b[1;32m    661\u001b[0m \u001b[0;34m\u001b[0m\u001b[0m\n\u001b[1;32m    662\u001b[0m         X, y = self._validate_data(\n\u001b[0;32m--> 663\u001b[0;31m             \u001b[0mX\u001b[0m\u001b[0;34m,\u001b[0m \u001b[0my\u001b[0m\u001b[0;34m,\u001b[0m \u001b[0maccept_sparse\u001b[0m\u001b[0;34m=\u001b[0m\u001b[0maccept_sparse\u001b[0m\u001b[0;34m,\u001b[0m \u001b[0my_numeric\u001b[0m\u001b[0;34m=\u001b[0m\u001b[0;32mTrue\u001b[0m\u001b[0;34m,\u001b[0m \u001b[0mmulti_output\u001b[0m\u001b[0;34m=\u001b[0m\u001b[0;32mTrue\u001b[0m\u001b[0;34m\u001b[0m\u001b[0;34m\u001b[0m\u001b[0m\n\u001b[0m\u001b[1;32m    664\u001b[0m         )\n\u001b[1;32m    665\u001b[0m \u001b[0;34m\u001b[0m\u001b[0m\n",
            "\u001b[0;32m/usr/local/lib/python3.7/dist-packages/sklearn/base.py\u001b[0m in \u001b[0;36m_validate_data\u001b[0;34m(self, X, y, reset, validate_separately, **check_params)\u001b[0m\n\u001b[1;32m    579\u001b[0m                 \u001b[0my\u001b[0m \u001b[0;34m=\u001b[0m \u001b[0mcheck_array\u001b[0m\u001b[0;34m(\u001b[0m\u001b[0my\u001b[0m\u001b[0;34m,\u001b[0m \u001b[0;34m**\u001b[0m\u001b[0mcheck_y_params\u001b[0m\u001b[0;34m)\u001b[0m\u001b[0;34m\u001b[0m\u001b[0;34m\u001b[0m\u001b[0m\n\u001b[1;32m    580\u001b[0m             \u001b[0;32melse\u001b[0m\u001b[0;34m:\u001b[0m\u001b[0;34m\u001b[0m\u001b[0;34m\u001b[0m\u001b[0m\n\u001b[0;32m--> 581\u001b[0;31m                 \u001b[0mX\u001b[0m\u001b[0;34m,\u001b[0m \u001b[0my\u001b[0m \u001b[0;34m=\u001b[0m \u001b[0mcheck_X_y\u001b[0m\u001b[0;34m(\u001b[0m\u001b[0mX\u001b[0m\u001b[0;34m,\u001b[0m \u001b[0my\u001b[0m\u001b[0;34m,\u001b[0m \u001b[0;34m**\u001b[0m\u001b[0mcheck_params\u001b[0m\u001b[0;34m)\u001b[0m\u001b[0;34m\u001b[0m\u001b[0;34m\u001b[0m\u001b[0m\n\u001b[0m\u001b[1;32m    582\u001b[0m             \u001b[0mout\u001b[0m \u001b[0;34m=\u001b[0m \u001b[0mX\u001b[0m\u001b[0;34m,\u001b[0m \u001b[0my\u001b[0m\u001b[0;34m\u001b[0m\u001b[0;34m\u001b[0m\u001b[0m\n\u001b[1;32m    583\u001b[0m \u001b[0;34m\u001b[0m\u001b[0m\n",
            "\u001b[0;32m/usr/local/lib/python3.7/dist-packages/sklearn/utils/validation.py\u001b[0m in \u001b[0;36mcheck_X_y\u001b[0;34m(X, y, accept_sparse, accept_large_sparse, dtype, order, copy, force_all_finite, ensure_2d, allow_nd, multi_output, ensure_min_samples, ensure_min_features, y_numeric, estimator)\u001b[0m\n\u001b[1;32m    974\u001b[0m         \u001b[0mensure_min_samples\u001b[0m\u001b[0;34m=\u001b[0m\u001b[0mensure_min_samples\u001b[0m\u001b[0;34m,\u001b[0m\u001b[0;34m\u001b[0m\u001b[0;34m\u001b[0m\u001b[0m\n\u001b[1;32m    975\u001b[0m         \u001b[0mensure_min_features\u001b[0m\u001b[0;34m=\u001b[0m\u001b[0mensure_min_features\u001b[0m\u001b[0;34m,\u001b[0m\u001b[0;34m\u001b[0m\u001b[0;34m\u001b[0m\u001b[0m\n\u001b[0;32m--> 976\u001b[0;31m         \u001b[0mestimator\u001b[0m\u001b[0;34m=\u001b[0m\u001b[0mestimator\u001b[0m\u001b[0;34m,\u001b[0m\u001b[0;34m\u001b[0m\u001b[0;34m\u001b[0m\u001b[0m\n\u001b[0m\u001b[1;32m    977\u001b[0m     )\n\u001b[1;32m    978\u001b[0m \u001b[0;34m\u001b[0m\u001b[0m\n",
            "\u001b[0;32m/usr/local/lib/python3.7/dist-packages/sklearn/utils/validation.py\u001b[0m in \u001b[0;36mcheck_array\u001b[0;34m(array, accept_sparse, accept_large_sparse, dtype, order, copy, force_all_finite, ensure_2d, allow_nd, ensure_min_samples, ensure_min_features, estimator)\u001b[0m\n\u001b[1;32m    771\u001b[0m                     \u001b[0;34m\"Reshape your data either using array.reshape(-1, 1) if \"\u001b[0m\u001b[0;34m\u001b[0m\u001b[0;34m\u001b[0m\u001b[0m\n\u001b[1;32m    772\u001b[0m                     \u001b[0;34m\"your data has a single feature or array.reshape(1, -1) \"\u001b[0m\u001b[0;34m\u001b[0m\u001b[0;34m\u001b[0m\u001b[0m\n\u001b[0;32m--> 773\u001b[0;31m                     \u001b[0;34m\"if it contains a single sample.\"\u001b[0m\u001b[0;34m.\u001b[0m\u001b[0mformat\u001b[0m\u001b[0;34m(\u001b[0m\u001b[0marray\u001b[0m\u001b[0;34m)\u001b[0m\u001b[0;34m\u001b[0m\u001b[0;34m\u001b[0m\u001b[0m\n\u001b[0m\u001b[1;32m    774\u001b[0m                 )\n\u001b[1;32m    775\u001b[0m \u001b[0;34m\u001b[0m\u001b[0m\n",
            "\u001b[0;31mValueError\u001b[0m: Expected 2D array, got 1D array instead:\narray=[2006 1983 2006 1988 1991 1958 2008 2007 1948 2006 1960 1932 1968 1932\n 1964 2002 1994 1988 1968 2005].\nReshape your data either using array.reshape(-1, 1) if your data has a single feature or array.reshape(1, -1) if it contains a single sample."
          ]
        }
      ]
    },
    {
      "cell_type": "code",
      "source": [
        "#correcting the array size\n",
        "x_train = x_train.array.reshape(-1,1)\n",
        "x_test = x_test.array.reshape(-1,1)\n",
        "y_train = y_train.array.reshape(-1,1)\n",
        "y_test = y_test.array.reshape(-1,1)\n",
        "\n",
        "lr = LinearRegression().fit(x_train, y_train)"
      ],
      "metadata": {
        "id": "ph25Hm8gkG6K"
      },
      "execution_count": null,
      "outputs": []
    },
    {
      "cell_type": "code",
      "source": [
        "print('lr.coef_', lr.coef_)\n",
        "print('lr.intercept_', lr.intercept_)"
      ],
      "metadata": {
        "colab": {
          "base_uri": "https://localhost:8080/"
        },
        "id": "G2rcBZKBj--n",
        "outputId": "59da9464-6468-4997-c01d-0e1559be0d0a"
      },
      "execution_count": null,
      "outputs": [
        {
          "output_type": "stream",
          "name": "stdout",
          "text": [
            "lr.coef_ [[-0.00996314]]\n",
            "lr.intercept_ [29.72499202]\n"
          ]
        }
      ]
    },
    {
      "cell_type": "code",
      "source": [
        "x = np.linspace(1900,2050,100)\n",
        "y = lr.coef_ * x + lr.intercept_\n",
        "plt.scatter(x,y,c='r')\n",
        "plt.scatter(x_train,y_train)\n",
        "plt.show()"
      ],
      "metadata": {
        "colab": {
          "base_uri": "https://localhost:8080/",
          "height": 265
        },
        "id": "mzGXmf5ZmIhy",
        "outputId": "5a6dc3e8-44ce-4ddf-dbb0-d15f29467f71"
      },
      "execution_count": null,
      "outputs": [
        {
          "output_type": "display_data",
          "data": {
            "text/plain": [
              "<Figure size 432x288 with 1 Axes>"
            ],
            "image/png": "[encoded data removed]"
          },
          "metadata": {
            "needs_background": "light"
          }
        }
      ]
    },
    {
      "cell_type": "code",
      "source": [
        "plt.scatter(x,y,c='r')\n",
        "plt.scatter(x_test,y_test)\n",
        "plt.show()"
      ],
      "metadata": {
        "colab": {
          "base_uri": "https://localhost:8080/",
          "height": 265
        },
        "id": "FNSo3TTKm_ix",
        "outputId": "98ee58eb-a68f-4e6d-d2b2-9e52b9358a86"
      },
      "execution_count": null,
      "outputs": [
        {
          "output_type": "display_data",
          "data": {
            "text/plain": [
              "<Figure size 432x288 with 1 Axes>"
            ],
            "image/png": "[encoded data removed]"
          },
          "metadata": {
            "needs_background": "light"
          }
        }
      ]
    },
    {
      "cell_type": "code",
      "source": [
        "print('train score', lr.score(x_train,y_train))\n",
        "print('test score', lr.score(x_test,y_test))"
      ],
      "metadata": {
        "colab": {
          "base_uri": "https://localhost:8080/"
        },
        "id": "5tsFsgFZnJCM",
        "outputId": "712c1ac9-2076-4a0d-dcee-a930e5a3f614"
      },
      "execution_count": null,
      "outputs": [
        {
          "output_type": "stream",
          "name": "stdout",
          "text": [
            "train score 0.9397844748628977\n",
            "test score 0.9186857774960621\n"
          ]
        }
      ]
    },
    {
      "cell_type": "markdown",
      "source": [
        "We'll now use an unsupervised method for data classification"
      ],
      "metadata": {
        "id": "F4W5r1GtXALr"
      }
    },
    {
      "cell_type": "code",
      "source": [
        " #k-means clustering algorithm\n",
        "from sklearn.cluster import KMeans\n",
        "kmeans = KMeans(n_clusters=2)"
      ],
      "metadata": {
        "id": "izt0FR3VZzjU"
      },
      "execution_count": null,
      "outputs": []
    },
    {
      "cell_type": "code",
      "source": [
        "x_for_train = list(zip(runs['time'],runs['year']))\n",
        "x_train, x_test, y_train, y_test = train_test_split(np.array(x_for_train),np.array(runs['type']),random_state=42,test_size=0.33)"
      ],
      "metadata": {
        "id": "anoZB-yLYJGk"
      },
      "execution_count": null,
      "outputs": []
    },
    {
      "cell_type": "code",
      "source": [
        ""
      ],
      "metadata": {
        "id": "tyr7FljiYk96"
      },
      "execution_count": null,
      "outputs": []
    },
    {
      "cell_type": "code",
      "source": [
        "kmeans.fit(x_for_train)\n",
        "print(\"Cluster membership:{}\".format(kmeans.labels_))"
      ],
      "metadata": {
        "colab": {
          "base_uri": "https://localhost:8080/"
        },
        "id": "T8-e9C-bYKpt",
        "outputId": "e9a6a402-0c4e-4a48-a51f-1512aa56593d"
      },
      "execution_count": null,
      "outputs": [
        {
          "output_type": "stream",
          "name": "stdout",
          "text": [
            "Cluster membership:[0 0 0 0 0 0 0 0 0 0 0 0 0 0 0 0 0 1 1 1 1 1 1 1 1 1 1 1 1 1 0 0 0 0 0 0 0\n",
            " 0 0 1 1 1 1 1 1 1 1 1 1 1 1]\n"
          ]
        }
      ]
    },
    {
      "cell_type": "code",
      "source": [
        "correct_count = 0\n",
        "for true_value, prediction in zip(runs['type'],kmeans.labels_):\n",
        "  print('True {0}: Prediction: {1} -> Correct : {2}'.format(true_value,prediction, true_value-prediction-1))\n",
        "  if(true_value-prediction-1 == 0):\n",
        "    correct_count += 1\n",
        "print('Accuratezza : correct/all = {:.2f}'.format(correct_count/len(x_for_train)))"
      ],
      "metadata": {
        "colab": {
          "base_uri": "https://localhost:8080/"
        },
        "id": "9B9muBefYa1j",
        "outputId": "93eb9ae5-ab5d-4184-86e4-e9ce8b706c95"
      },
      "execution_count": null,
      "outputs": [
        {
          "output_type": "stream",
          "name": "stdout",
          "text": [
            "True 1: Prediction: 0 -> Correct : 0\n",
            "True 1: Prediction: 0 -> Correct : 0\n",
            "True 1: Prediction: 0 -> Correct : 0\n",
            "True 1: Prediction: 0 -> Correct : 0\n",
            "True 1: Prediction: 0 -> Correct : 0\n",
            "True 1: Prediction: 0 -> Correct : 0\n",
            "True 1: Prediction: 0 -> Correct : 0\n",
            "True 1: Prediction: 0 -> Correct : 0\n",
            "True 1: Prediction: 0 -> Correct : 0\n",
            "True 1: Prediction: 0 -> Correct : 0\n",
            "True 1: Prediction: 0 -> Correct : 0\n",
            "True 1: Prediction: 0 -> Correct : 0\n",
            "True 1: Prediction: 0 -> Correct : 0\n",
            "True 1: Prediction: 0 -> Correct : 0\n",
            "True 1: Prediction: 0 -> Correct : 0\n",
            "True 1: Prediction: 0 -> Correct : 0\n",
            "True 1: Prediction: 0 -> Correct : 0\n",
            "True 1: Prediction: 1 -> Correct : -1\n",
            "True 1: Prediction: 1 -> Correct : -1\n",
            "True 1: Prediction: 1 -> Correct : -1\n",
            "True 1: Prediction: 1 -> Correct : -1\n",
            "True 1: Prediction: 1 -> Correct : -1\n",
            "True 1: Prediction: 1 -> Correct : -1\n",
            "True 1: Prediction: 1 -> Correct : -1\n",
            "True 1: Prediction: 1 -> Correct : -1\n",
            "True 1: Prediction: 1 -> Correct : -1\n",
            "True 1: Prediction: 1 -> Correct : -1\n",
            "True 1: Prediction: 1 -> Correct : -1\n",
            "True 1: Prediction: 1 -> Correct : -1\n",
            "True 1: Prediction: 1 -> Correct : -1\n",
            "True 2: Prediction: 0 -> Correct : 1\n",
            "True 2: Prediction: 0 -> Correct : 1\n",
            "True 2: Prediction: 0 -> Correct : 1\n",
            "True 2: Prediction: 0 -> Correct : 1\n",
            "True 2: Prediction: 0 -> Correct : 1\n",
            "True 2: Prediction: 0 -> Correct : 1\n",
            "True 2: Prediction: 0 -> Correct : 1\n",
            "True 2: Prediction: 0 -> Correct : 1\n",
            "True 2: Prediction: 0 -> Correct : 1\n",
            "True 2: Prediction: 1 -> Correct : 0\n",
            "True 2: Prediction: 1 -> Correct : 0\n",
            "True 2: Prediction: 1 -> Correct : 0\n",
            "True 2: Prediction: 1 -> Correct : 0\n",
            "True 2: Prediction: 1 -> Correct : 0\n",
            "True 2: Prediction: 1 -> Correct : 0\n",
            "True 2: Prediction: 1 -> Correct : 0\n",
            "True 2: Prediction: 1 -> Correct : 0\n",
            "True 2: Prediction: 1 -> Correct : 0\n",
            "True 2: Prediction: 1 -> Correct : 0\n",
            "True 2: Prediction: 1 -> Correct : 0\n",
            "True 2: Prediction: 1 -> Correct : 0\n",
            "Accuratezza : correct/all = 0.57\n"
          ]
        }
      ]
    },
    {
      "cell_type": "markdown",
      "source": [
        "The algorithm doesn't work as well as we expected. We'll now try to see if it gets better by using only times and not years"
      ],
      "metadata": {
        "id": "CEx-pFLHa6Ok"
      }
    },
    {
      "cell_type": "code",
      "source": [
        "kmeans_time = KMeans(n_clusters=2)\n",
        "input_time = np.array(runs['time'])\n",
        "input_time = input_time.reshape(-1,1)\n",
        "kmeans_time.fit(input_time)"
      ],
      "metadata": {
        "colab": {
          "base_uri": "https://localhost:8080/"
        },
        "id": "zZzbUR4KbHDJ",
        "outputId": "bc04695e-ebc6-44e6-a3ca-a2b1ec97f058"
      },
      "execution_count": null,
      "outputs": [
        {
          "output_type": "execute_result",
          "data": {
            "text/plain": [
              "KMeans(n_clusters=2)"
            ]
          },
          "metadata": {},
          "execution_count": 23
        }
      ]
    },
    {
      "cell_type": "code",
      "source": [
        "correct_count = 0\n",
        "for true_value, prediction in zip(runs['type'],kmeans_time.labels_):\n",
        "  print('True {0}: Prediction: {1} -> Correct : {2}'.format(true_value,prediction, true_value-prediction-1))\n",
        "  if(true_value ==1 and prediction-1 == 0):\n",
        "    correct_count += 1\n",
        "  if(true_value ==2 and prediction == 0):\n",
        "    correct_count +=1\n",
        "print('Accuratezza : correct/all = {:.2f}'.format(correct_count/len(x_for_train)))"
      ],
      "metadata": {
        "colab": {
          "base_uri": "https://localhost:8080/"
        },
        "id": "Y6xd7Tbsbf9M",
        "outputId": "c8a5807a-b2c4-4e2f-bc6e-8a860bbecd8e"
      },
      "execution_count": null,
      "outputs": [
        {
          "output_type": "stream",
          "name": "stdout",
          "text": [
            "True 1: Prediction: 0 -> Correct : 0\n",
            "True 1: Prediction: 0 -> Correct : 0\n",
            "True 1: Prediction: 0 -> Correct : 0\n",
            "True 1: Prediction: 0 -> Correct : 0\n",
            "True 1: Prediction: 0 -> Correct : 0\n",
            "True 1: Prediction: 0 -> Correct : 0\n",
            "True 1: Prediction: 0 -> Correct : 0\n",
            "True 1: Prediction: 0 -> Correct : 0\n",
            "True 1: Prediction: 0 -> Correct : 0\n",
            "True 1: Prediction: 0 -> Correct : 0\n",
            "True 1: Prediction: 0 -> Correct : 0\n",
            "True 1: Prediction: 0 -> Correct : 0\n",
            "True 1: Prediction: 0 -> Correct : 0\n",
            "True 1: Prediction: 0 -> Correct : 0\n",
            "True 1: Prediction: 0 -> Correct : 0\n",
            "True 1: Prediction: 0 -> Correct : 0\n",
            "True 1: Prediction: 0 -> Correct : 0\n",
            "True 1: Prediction: 0 -> Correct : 0\n",
            "True 1: Prediction: 0 -> Correct : 0\n",
            "True 1: Prediction: 0 -> Correct : 0\n",
            "True 1: Prediction: 0 -> Correct : 0\n",
            "True 1: Prediction: 0 -> Correct : 0\n",
            "True 1: Prediction: 0 -> Correct : 0\n",
            "True 1: Prediction: 0 -> Correct : 0\n",
            "True 1: Prediction: 0 -> Correct : 0\n",
            "True 1: Prediction: 0 -> Correct : 0\n",
            "True 1: Prediction: 0 -> Correct : 0\n",
            "True 1: Prediction: 0 -> Correct : 0\n",
            "True 1: Prediction: 0 -> Correct : 0\n",
            "True 1: Prediction: 1 -> Correct : -1\n",
            "True 2: Prediction: 0 -> Correct : 1\n",
            "True 2: Prediction: 1 -> Correct : 0\n",
            "True 2: Prediction: 1 -> Correct : 0\n",
            "True 2: Prediction: 1 -> Correct : 0\n",
            "True 2: Prediction: 1 -> Correct : 0\n",
            "True 2: Prediction: 1 -> Correct : 0\n",
            "True 2: Prediction: 1 -> Correct : 0\n",
            "True 2: Prediction: 1 -> Correct : 0\n",
            "True 2: Prediction: 1 -> Correct : 0\n",
            "True 2: Prediction: 1 -> Correct : 0\n",
            "True 2: Prediction: 1 -> Correct : 0\n",
            "True 2: Prediction: 1 -> Correct : 0\n",
            "True 2: Prediction: 1 -> Correct : 0\n",
            "True 2: Prediction: 1 -> Correct : 0\n",
            "True 2: Prediction: 1 -> Correct : 0\n",
            "True 2: Prediction: 1 -> Correct : 0\n",
            "True 2: Prediction: 1 -> Correct : 0\n",
            "True 2: Prediction: 1 -> Correct : 0\n",
            "True 2: Prediction: 1 -> Correct : 0\n",
            "True 2: Prediction: 1 -> Correct : 0\n",
            "True 2: Prediction: 1 -> Correct : 0\n",
            "Accuratezza : correct/all = 0.04\n"
          ]
        }
      ]
    },
    {
      "cell_type": "code",
      "source": [
        "#something wrong: ask Silvia or check again"
      ],
      "metadata": {
        "id": "O7ttvAGVb_jy"
      },
      "execution_count": null,
      "outputs": []
    }
  ]
}