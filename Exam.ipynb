{
  "cells": [
    {
      "cell_type": "code",
      "execution_count": null,
      "metadata": {
        "colab": {
          "base_uri": "https://localhost:8080/"
        },
        "id": "OQPrsPNf3TmJ",
        "outputId": "e07f1f4a-ab2c-4e6c-d2e1-982aa30c9d7c"
      },
      "outputs": [
        {
          "output_type": "stream",
          "name": "stdout",
          "text": [
            "Looking in indexes: https://pypi.org/simple, https://us-python.pkg.dev/colab-wheels/public/simple/\n",
            "Collecting astroML\n",
            "  Downloading astroML-1.0.2.post1-py3-none-any.whl (134 kB)\n",
            "\u001b[K     |████████████████████████████████| 134 kB 5.5 MB/s \n",
            "\u001b[?25hRequirement already satisfied: scipy>=0.18 in /usr/local/lib/python3.7/dist-packages (from astroML) (1.4.1)\n",
            "Requirement already satisfied: matplotlib>=3.0 in /usr/local/lib/python3.7/dist-packages (from astroML) (3.2.2)\n",
            "Requirement already satisfied: numpy>=1.13 in /usr/local/lib/python3.7/dist-packages (from astroML) (1.21.6)\n",
            "Requirement already satisfied: scikit-learn>=0.18 in /usr/local/lib/python3.7/dist-packages (from astroML) (1.0.2)\n",
            "Requirement already satisfied: astropy>=3.0 in /usr/local/lib/python3.7/dist-packages (from astroML) (4.3.1)\n",
            "Requirement already satisfied: pyerfa>=1.7.3 in /usr/local/lib/python3.7/dist-packages (from astropy>=3.0->astroML) (2.0.0.1)\n",
            "Requirement already satisfied: importlib-metadata in /usr/local/lib/python3.7/dist-packages (from astropy>=3.0->astroML) (4.11.4)\n",
            "Requirement already satisfied: python-dateutil>=2.1 in /usr/local/lib/python3.7/dist-packages (from matplotlib>=3.0->astroML) (2.8.2)\n",
            "Requirement already satisfied: pyparsing!=2.0.4,!=2.1.2,!=2.1.6,>=2.0.1 in /usr/local/lib/python3.7/dist-packages (from matplotlib>=3.0->astroML) (3.0.9)\n",
            "Requirement already satisfied: cycler>=0.10 in /usr/local/lib/python3.7/dist-packages (from matplotlib>=3.0->astroML) (0.11.0)\n",
            "Requirement already satisfied: kiwisolver>=1.0.1 in /usr/local/lib/python3.7/dist-packages (from matplotlib>=3.0->astroML) (1.4.2)\n",
            "Requirement already satisfied: typing-extensions in /usr/local/lib/python3.7/dist-packages (from kiwisolver>=1.0.1->matplotlib>=3.0->astroML) (4.2.0)\n",
            "Requirement already satisfied: six>=1.5 in /usr/local/lib/python3.7/dist-packages (from python-dateutil>=2.1->matplotlib>=3.0->astroML) (1.15.0)\n",
            "Requirement already satisfied: joblib>=0.11 in /usr/local/lib/python3.7/dist-packages (from scikit-learn>=0.18->astroML) (1.1.0)\n",
            "Requirement already satisfied: threadpoolctl>=2.0.0 in /usr/local/lib/python3.7/dist-packages (from scikit-learn>=0.18->astroML) (3.1.0)\n",
            "Requirement already satisfied: zipp>=0.5 in /usr/local/lib/python3.7/dist-packages (from importlib-metadata->astropy>=3.0->astroML) (3.8.0)\n",
            "Installing collected packages: astroML\n",
            "Successfully installed astroML-1.0.2.post1\n",
            "Downloading https://github.com/astroML/astroML-data/raw/main/datasets/sdss_images_1000.npy.gz\n",
            "\n",
            "Downloading https://github.com/astroML/astroML-data/raw/main/datasets/sdss_labels_1000.npy\n",
            "\n"
          ]
        }
      ],
      "source": [
        "!pip install astroML\n",
        "from astroML.datasets import sdss_galaxy_images\n",
        "data = sdss_galaxy_images.fetch_sdss_galaxy_images()"
      ]
    },
    {
      "cell_type": "code",
      "execution_count": null,
      "metadata": {
        "id": "WPHOLunhu9aX"
      },
      "outputs": [],
      "source": [
        "import matplotlib.pyplot as plt\n",
        "import numpy as np\n",
        "import pandas as pd\n",
        "import tensorflow as tf\n",
        "from tensorflow.keras import datasets, layers, models\n",
        "import cv2"
      ]
    },
    {
      "cell_type": "code",
      "execution_count": null,
      "metadata": {
        "id": "fFE4_qPsw203"
      },
      "outputs": [],
      "source": [
        "X, y = data[0], data[1]"
      ]
    },
    {
      "cell_type": "code",
      "execution_count": null,
      "metadata": {
        "id": "fweEfHtafCOO"
      },
      "outputs": [],
      "source": [
        "plt.imshow(data[0][1])\n",
        "plt.show()"
      ]
    },
    {
      "cell_type": "code",
      "execution_count": null,
      "metadata": {
        "id": "kC0dBRG1DtKZ"
      },
      "outputs": [],
      "source": [
        "#data aug\n",
        "\n",
        "flip = (data[0]*0, data[1])\n",
        "for i in range(1000):\n",
        "  flip[0][i] = np.fliplr(data[0][i])\n",
        "plt.imshow(flip[0][0])\n",
        "plt.show()\n",
        "\n",
        "rotate90 = (data[0]*0, data[1])\n",
        "for i in range(1000):\n",
        "  rotate90[0][i] = cv2.rotate(data[0][i], cv2.ROTATE_90_CLOCKWISE)\n",
        "plt.imshow(rotate90[0][0])\n",
        "plt.show()\n",
        "\n",
        "rotate180 = (data[0]*0, data[1])\n",
        "for i in range(1000):\n",
        "  rotate180[0][i] = cv2.rotate(data[0][i], cv2.ROTATE_180)\n",
        "plt.imshow(rotate180[0][0])\n",
        "plt.show()\n",
        "\n",
        "rotate270 = (data[0]*0, data[1])\n",
        "for i in range(1000):\n",
        "  rotate270[0][i] = cv2.rotate(data[0][i], cv2.ROTATE_90_COUNTERCLOCKWISE)\n",
        "plt.imshow(rotate270[0][0])\n",
        "plt.show()\n",
        "\n",
        "blur = (data[0]*0, data[1])\n",
        "for i in range(1000):\n",
        "  blur[0][i] = cv2.blur(data[0][i], (3,3))\n",
        "plt.imshow(blur[0][1])\n",
        "plt.show()\n",
        "\n",
        "compose1 = (data[0]*0, data[1])\n",
        "for i in range(1000):\n",
        "  compose1[0][i] = cv2.blur(rotate90[0][i], (3,3)) \n",
        "plt.imshow(compose1[0][1])\n",
        "plt.show()\n",
        "\n",
        "compose2 = (data[0]*0, data[1])\n",
        "for i in range(1000):\n",
        "  compose2[0][i] = cv2.blur(flip[0][i], (3,3))\n",
        "plt.imshow(compose2[0][1])\n",
        "plt.show() \n",
        "\n",
        "compose3 = (data[0]*0, data[1])\n",
        "for i in range(1000):\n",
        "  compose3[0][i] = cv2.rotate(flip[0][i], cv2.ROTATE_90_CLOCKWISE) \n",
        "plt.imshow(compose3[0][1])\n",
        "plt.show()\n",
        "\n",
        "compose4 = (data[0]*0, data[1])\n",
        "for i in range(1000):\n",
        "  compose4[0][i] = cv2.rotate(flip[0][i], cv2.ROTATE_180)\n",
        "plt.imshow(compose4[0][1])\n",
        "plt.show() \n",
        "\n",
        "compose5 = (data[0]*0, data[1])\n",
        "for i in range(1000):\n",
        "  compose5[0][i] = cv2.rotate(blur[0][i], cv2.ROTATE_180) \n",
        "plt.imshow(compose5[0][1])\n",
        "plt.show()"
      ]
    },
    {
      "cell_type": "code",
      "execution_count": null,
      "metadata": {
        "id": "m9ckDTPAD7df"
      },
      "outputs": [],
      "source": [
        "y_aug = np.zeros(shape=(11000,))\n",
        "for i in range(1000):\n",
        "  y_aug[i] = y[i]\n",
        "  y_aug[1000+i] = flip[1][i]\n",
        "  y_aug[2000+i] = rotate90[1][i]\n",
        "  y_aug[3000+i] = rotate180[1][i]\n",
        "  y_aug[4000+i] = rotate270[1][i]\n",
        "  y_aug[5000+i] = blur[1][i]\n",
        "  y_aug[6000+i] = compose1[1][i]\n",
        "  y_aug[7000+i] = compose2[1][i]\n",
        "  y_aug[8000+i] = compose3[1][i]\n",
        "  y_aug[9000+i] = compose4[1][i]\n",
        "  y_aug[10000+i] = compose5[1][i]\n",
        "\n",
        "X_aug = np.zeros(shape=(11000, 69, 69, 3))\n",
        "for i in range(1000):\n",
        "  X_aug[i] = X[i]\n",
        "  X_aug[1000+i] = flip[0][i]\n",
        "  X_aug[2000+i] = rotate90[0][i]\n",
        "  X_aug[3000+i] = rotate180[0][i]\n",
        "  X_aug[4000+i] = rotate270[0][i]\n",
        "  X_aug[5000+i] = blur[0][i]\n",
        "  X_aug[6000+i] = compose1[0][i]\n",
        "  X_aug[7000+i] = compose2[0][i]\n",
        "  X_aug[8000+i] = compose3[0][i]\n",
        "  X_aug[9000+i] = compose4[0][i]\n",
        "  X_aug[10000+i] = compose5[0][i]"
      ]
    },
    {
      "cell_type": "code",
      "execution_count": null,
      "metadata": {
        "id": "Ci0xcXdR9CUU"
      },
      "outputs": [],
      "source": [
        "X_aug = X_aug.reshape(X_aug.shape[0], 69*69*3)"
      ]
    },
    {
      "cell_type": "code",
      "execution_count": null,
      "metadata": {
        "colab": {
          "base_uri": "https://localhost:8080/"
        },
        "id": "tQflUt8mFgUf",
        "outputId": "9185697f-94ee-41ce-d716-0023d62b78c1"
      },
      "outputs": [
        {
          "output_type": "stream",
          "name": "stdout",
          "text": [
            ">acc=0.880, est=0.860, cfg={'max_features': 6, 'n_estimators': 500}\n",
            ">acc=0.860, est=0.862, cfg={'max_features': 6, 'n_estimators': 500}\n",
            ">acc=0.868, est=0.861, cfg={'max_features': 6, 'n_estimators': 500}\n",
            ">acc=0.874, est=0.858, cfg={'max_features': 6, 'n_estimators': 500}\n",
            ">acc=0.867, est=0.856, cfg={'max_features': 6, 'n_estimators': 500}\n"
          ]
        }
      ],
      "source": [
        "from sklearn.datasets import make_classification\n",
        "from sklearn.model_selection import KFold\n",
        "from sklearn.model_selection import GridSearchCV\n",
        "from sklearn.ensemble import RandomForestClassifier\n",
        "from sklearn.metrics import accuracy_score\n",
        "\n",
        "cv_outer = KFold(n_splits=5, shuffle=True, random_state=1)\n",
        "outer_results=list()\n",
        "y_test_best = list()\n",
        "X_test_best = list()\n",
        "X_train_best = list()\n",
        "y_train_best = list()\n",
        "for train_ix, test_ix in cv_outer.split(X_aug):\n",
        "  X_train, X_test = X_aug[train_ix, :], X_aug[test_ix, :]\n",
        "  y_train, y_test = y_aug[train_ix], y_aug[test_ix]\n",
        "  cv_inner = KFold(n_splits=5, shuffle=True, random_state=1)\n",
        "  X_test_best.append(X_test)\n",
        "  y_test_best.append(y_test)\n",
        "  X_train_best.append(X_train)\n",
        "  y_train_best.append(y_train)\n",
        "  model = RandomForestClassifier(random_state=1)\n",
        "  space = dict()\n",
        "  space['n_estimators'] = [10, 200, 500]\n",
        "  space['max_features'] = [2, 4, 6]\n",
        "  search = GridSearchCV(model, space, scoring='accuracy', cv=cv_inner, refit=True)\n",
        "  result = search.fit(X_train, y_train)\n",
        "  best_model = result.best_estimator_\n",
        "  yhat = best_model.predict(X_test)\n",
        "  acc = accuracy_score(y_test, yhat)\n",
        "  outer_results.append(acc)\n",
        "  print('>acc=%.3f, est=%.3f, cfg=%s' % (acc, result.best_score_, result.best_params_))\n",
        "print('Mean accuracy: %.3f (std: %.3f)' % (np.mean(outer_results), np.std(outer_results)))"
      ]
    },
    {
      "cell_type": "code",
      "execution_count": null,
      "metadata": {
        "id": "eGXtVT2hFYxK"
      },
      "outputs": [],
      "source": [
        "X_test = np.array(X_test_best[0])\n",
        "y_test = np.array(y_test_best[0])\n",
        "X_train = np.array(X_train_best[0])\n",
        "y_train = np.array(y_train_best[0])"
      ]
    },
    {
      "cell_type": "code",
      "execution_count": null,
      "metadata": {
        "id": "woDmRdCDFnw5"
      },
      "outputs": [],
      "source": [
        "X_train = X_train.reshape(X_train.shape[0], 69, 69, 3)\n",
        "X_test = X_test.reshape(X_test.shape[0], 69, 69, 3)"
      ]
    },
    {
      "cell_type": "code",
      "execution_count": null,
      "metadata": {
        "id": "EJte6x_ho3HH"
      },
      "outputs": [],
      "source": [
        "from keras.callbacks import EarlyStopping, ReduceLROnPlateau, TerminateOnNaN\n",
        "\n",
        "callbacks = [EarlyStopping(monitor='val_loss', min_delta = 2e-3, patience=2, verbose=1),\n",
        "             ReduceLROnPlateau(monitor='val_loss', factor=0.5, patience=1, min_delta = 2e-2, min_lr=1e-7, verbose=1),\n",
        "             TerminateOnNaN()]"
      ]
    },
    {
      "cell_type": "code",
      "execution_count": null,
      "metadata": {
        "id": "qZdyPQATxhpr"
      },
      "outputs": [],
      "source": [
        "def createModel1():\n",
        "    model = models.Sequential()\n",
        "    model.add(layers.Conv2D(16, (3, 3), padding='same', activation='relu', input_shape=(69,69,3)))\n",
        "    model.add(layers.Conv2D(16, (3, 3), activation='relu'))\n",
        "    model.add(layers.MaxPooling2D(pool_size=(2, 2)))\n",
        "    model.add(layers.Dropout(0.20))\n",
        "\n",
        "    model.add(layers.Flatten())\n",
        "    model.add(layers.Dense(64, activation='relu'))\n",
        "    model.add(layers.Dense(1, activation='sigmoid'))\n",
        "    \n",
        "    return model\n",
        "\n",
        "def createModel2():\n",
        "    model = models.Sequential()\n",
        "    model.add(layers.Conv2D(16, (8, 8), padding='same', activation='relu', input_shape=(69,69,3)))\n",
        "    model.add(layers.Conv2D(16, (8, 8), activation='relu'))\n",
        "    model.add(layers.MaxPooling2D(pool_size=(2, 2)))\n",
        "    model.add(layers.Dropout(0.20))\n",
        "\n",
        "    model.add(layers.Conv2D(32, (3, 3), padding='same', activation='relu'))\n",
        "    model.add(layers.Conv2D(32, (3, 3), activation='relu'))\n",
        "    model.add(layers.MaxPooling2D(pool_size=(2, 2)))\n",
        "    model.add(layers.Dropout(0.20))\n",
        "\n",
        "    model.add(layers.Flatten())\n",
        "    model.add(layers.Dense(64, activation='relu'))\n",
        "    model.add(layers.Dense(1, activation='sigmoid'))\n",
        "    \n",
        "    return model  \n",
        "\n",
        "def createModel3():\n",
        "    model = models.Sequential()\n",
        "    model.add(layers.Conv2D(16, (8, 8), padding='same', activation='relu', input_shape=(69,69,3)))\n",
        "    model.add(layers.Conv2D(16, (8, 8), activation='relu'))\n",
        "    model.add(layers.MaxPooling2D(pool_size=(2, 2)))\n",
        "    model.add(layers.Dropout(0.20))\n",
        "\n",
        "    model.add(layers.Conv2D(32, (3, 3), padding='same', activation='relu'))\n",
        "    model.add(layers.Conv2D(32, (3, 3), activation='relu'))\n",
        "    model.add(layers.MaxPooling2D(pool_size=(2, 2)))\n",
        "    model.add(layers.Dropout(0.25))\n",
        "\n",
        "    model.add(layers.Conv2D(64, (3, 3), padding='same', activation='relu'))\n",
        "    model.add(layers.Conv2D(64, (3, 3), activation='relu'))\n",
        "    model.add(layers.MaxPooling2D(pool_size=(2, 2)))\n",
        "    model.add(layers.Dropout(0.20))\n",
        "\n",
        "    model.add(layers.Flatten())\n",
        "    model.add(layers.Dense(64, activation='relu'))\n",
        "    model.add(layers.Dense(1, activation='sigmoid'))\n",
        "    \n",
        "    return model\n",
        "\n",
        "model1 = createModel1()\n",
        "model2 = createModel2()\n",
        "model3 = createModel3()\n",
        "batch_size = 128\n",
        "epochs = 50"
      ]
    },
    {
      "cell_type": "code",
      "execution_count": null,
      "metadata": {
        "id": "ngZg_kO5rLLI"
      },
      "outputs": [],
      "source": [
        "model1.compile(optimizer='adam', loss='binary_crossentropy', metrics=['accuracy'])\n",
        "model1.summary()\n",
        "\n",
        "history1 = model1.fit(X_train, y_train, batch_size=batch_size, epochs=epochs,verbose=1,validation_data=(X_test,y_test), callbacks=callbacks)"
      ]
    },
    {
      "cell_type": "code",
      "execution_count": null,
      "metadata": {
        "colab": {
          "base_uri": "https://localhost:8080/",
          "height": 70
        },
        "id": "dQT836qjwbtC",
        "outputId": "cb6b41b7-047b-450f-c94e-b36f92b2b1b7"
      },
      "outputs": [
        {
          "output_type": "execute_result",
          "data": {
            "text/plain": [
              "\"plt.plot(history1.history['loss'])\\nplt.plot(history1.history['val_loss'])\\nplt.title('model loss')\\nplt.ylabel('loss')\\nplt.xlabel('epoch')\\nplt.legend(['train', 'validation'], loc='best')\\nplt.show()\\n\\nplt.plot(history1.history['accuracy'])\\nplt.plot(history1.history['val_accuracy'])\\nplt.title('model accuracy')\\nplt.ylabel('Accuracy')\\nplt.xlabel('epoch')\\nplt.legend(['train', 'validation'], loc='best')\\nplt.show()\""
            ],
            "application/vnd.google.colaboratory.intrinsic+json": {
              "type": "string"
            }
          },
          "metadata": {},
          "execution_count": 19
        }
      ],
      "source": [
        "plt.plot(history1.history['loss'])\n",
        "plt.plot(history1.history['val_loss'])\n",
        "plt.title('model1 loss')\n",
        "plt.ylabel('loss')\n",
        "plt.xlabel('epoch')\n",
        "plt.legend(['train', 'validation'], loc='best')\n",
        "plt.show()\n",
        "\n",
        "plt.plot(history1.history['accuracy'])\n",
        "plt.plot(history1.history['val_accuracy'])\n",
        "plt.title('model1 accuracy')\n",
        "plt.ylabel('Accuracy')\n",
        "plt.xlabel('epoch')\n",
        "plt.legend(['train', 'validation'], loc='best')\n",
        "plt.show()"
      ]
    },
    {
      "cell_type": "code",
      "execution_count": null,
      "metadata": {
        "id": "DufF_rufrSCP"
      },
      "outputs": [],
      "source": [
        "model2.compile(optimizer='adam', loss='binary_crossentropy', metrics=['accuracy'])\n",
        "model2.summary()\n",
        "\n",
        "history2 = model2.fit(X_train, y_train, batch_size=batch_size, epochs=epochs,verbose=1,validation_data=(X_test,y_test), callbacks=callbacks)"
      ]
    },
    {
      "cell_type": "code",
      "execution_count": null,
      "metadata": {
        "id": "6oLrOwuswleV",
        "colab": {
          "base_uri": "https://localhost:8080/",
          "height": 70
        },
        "outputId": "03151f1f-9ae1-44d0-b579-37437e3c3876"
      },
      "outputs": [
        {
          "output_type": "execute_result",
          "data": {
            "text/plain": [
              "\"plt.plot(history2.history['loss'])\\nplt.plot(history2.history['val_loss'])\\nplt.title('model loss')\\nplt.ylabel('loss')\\nplt.xlabel('epoch')\\nplt.legend(['train', 'validation'], loc='best')\\nplt.show()\\n\\nplt.plot(history2.history['accuracy'])\\nplt.plot(history2.history['val_accuracy'])\\nplt.title('model accuracy')\\nplt.ylabel('Accuracy')\\nplt.xlabel('epoch')\\nplt.legend(['train', 'validation'], loc='best')\\nplt.show()\""
            ],
            "application/vnd.google.colaboratory.intrinsic+json": {
              "type": "string"
            }
          },
          "metadata": {},
          "execution_count": 21
        }
      ],
      "source": [
        "plt.plot(history2.history['loss'])\n",
        "plt.plot(history2.history['val_loss'])\n",
        "plt.title('model2 loss')\n",
        "plt.ylabel('loss')\n",
        "plt.xlabel('epoch')\n",
        "plt.legend(['train', 'validation'], loc='best')\n",
        "plt.show()\n",
        "\n",
        "plt.plot(history2.history['accuracy'])\n",
        "plt.plot(history2.history['val_accuracy'])\n",
        "plt.title('model2 accuracy')\n",
        "plt.ylabel('Accuracy')\n",
        "plt.xlabel('epoch')\n",
        "plt.legend(['train', 'validation'], loc='best')\n",
        "plt.show()"
      ]
    },
    {
      "cell_type": "code",
      "execution_count": null,
      "metadata": {
        "id": "vctPEFL5rbZU",
        "colab": {
          "base_uri": "https://localhost:8080/"
        },
        "outputId": "11c980ca-efa0-4eee-8e61-2fd1f0abf2b8"
      },
      "outputs": [
        {
          "output_type": "stream",
          "name": "stdout",
          "text": [
            "Epoch 1/50\n",
            "69/69 [==============================] - 336s 5s/step - loss: 0.2751 - accuracy: 0.8836 - val_loss: 0.2914 - val_accuracy: 0.8777 - lr: 0.0010\n",
            "Epoch 2/50\n",
            "69/69 [==============================] - ETA: 0s - loss: 0.2499 - accuracy: 0.8936\n",
            "Epoch 2: ReduceLROnPlateau reducing learning rate to 0.0005000000237487257.\n",
            "69/69 [==============================] - 334s 5s/step - loss: 0.2499 - accuracy: 0.8936 - val_loss: 0.2863 - val_accuracy: 0.8768 - lr: 0.0010\n",
            "Epoch 3/50\n",
            "69/69 [==============================] - ETA: 0s - loss: 0.2294 - accuracy: 0.9022\n",
            "Epoch 3: ReduceLROnPlateau reducing learning rate to 0.0002500000118743628.\n",
            "69/69 [==============================] - 334s 5s/step - loss: 0.2294 - accuracy: 0.9022 - val_loss: 0.2929 - val_accuracy: 0.8814 - lr: 5.0000e-04\n",
            "Epoch 4/50\n",
            "69/69 [==============================] - ETA: 0s - loss: 0.2124 - accuracy: 0.9086\n",
            "Epoch 4: ReduceLROnPlateau reducing learning rate to 0.0001250000059371814.\n",
            "69/69 [==============================] - 334s 5s/step - loss: 0.2124 - accuracy: 0.9086 - val_loss: 0.3175 - val_accuracy: 0.8732 - lr: 2.5000e-04\n",
            "Epoch 4: early stopping\n"
          ]
        }
      ],
      "source": [
        "model3.compile(optimizer='adam', loss='binary_crossentropy', metrics=['accuracy'])\n",
        "model3.summary()\n",
        "\n",
        "history3 = model3.fit(X_train, y_train, batch_size=batch_size, epochs=epochs,verbose=1,validation_data=(X_test,y_test), callbacks=callbacks)"
      ]
    },
    {
      "cell_type": "code",
      "execution_count": null,
      "metadata": {
        "id": "suENPm6B8GUr",
        "colab": {
          "base_uri": "https://localhost:8080/",
          "height": 573
        },
        "outputId": "53b30b35-7528-481c-bdd5-37d71d844418"
      },
      "outputs": [
        {
          "output_type": "display_data",
          "data": {
            "text/plain": [
              "<Figure size 432x288 with 1 Axes>"
            ],
            "image/png": "[encoded data removed]"
          },
          "metadata": {
            "needs_background": "light"
          }
        },
        {
          "output_type": "display_data",
          "data": {
            "text/plain": [
              "<Figure size 432x288 with 1 Axes>"
            ],
            "image/png": "[encoded data removed]"
          },
          "metadata": {
            "needs_background": "light"
          }
        }
      ],
      "source": [
        "plt.plot(history3.history['loss'])\n",
        "plt.plot(history3.history['val_loss'])\n",
        "plt.title('model3 loss')\n",
        "plt.ylabel('loss')\n",
        "plt.xlabel('epoch')\n",
        "plt.legend(['train', 'validation'], loc='best')\n",
        "plt.show()\n",
        "\n",
        "plt.plot(history3.history['accuracy'])\n",
        "plt.plot(history3.history['val_accuracy'])\n",
        "plt.title('model3 accuracy')\n",
        "plt.ylabel('Accuracy')\n",
        "plt.xlabel('epoch')\n",
        "plt.legend(['train', 'validation'], loc='best')\n",
        "plt.show()"
      ]
    },
    {
      "cell_type": "code",
      "execution_count": null,
      "metadata": {
        "id": "O2sb8Tf9gB1O",
        "colab": {
          "base_uri": "https://localhost:8080/",
          "height": 331
        },
        "outputId": "bc7ebf40-4033-4b47-cd4f-5f631bb78c2d"
      },
      "outputs": [
        {
          "output_type": "display_data",
          "data": {
            "text/plain": [
              "<Figure size 432x288 with 1 Axes>"
            ],
            "image/png": "[encoded data removed]"
          },
          "metadata": {
            "needs_background": "light"
          }
        },
        {
          "output_type": "stream",
          "name": "stdout",
          "text": [
            "AUC model 1:  0.5016474402943194\n",
            "AUC model 2:  0.5334771673837584\n",
            "AUC model 3:  0.9521198894223775\n"
          ]
        }
      ],
      "source": [
        "from sklearn.metrics import roc_curve\n",
        "from sklearn.metrics import roc_auc_score\n",
        "\n",
        "fpr, tpr, threshold = roc_curve(y_test, model1.predict(X_test), drop_intermediate=False)\n",
        "fpr2, tpr2, threshold2 = roc_curve(y_test, model2.predict(X_test), drop_intermediate=False)\n",
        "fpr3, tpr3, threshold3 = roc_curve(y_test, model3.predict(X_test), drop_intermediate=False)\n",
        "\n",
        "def plot_roc_curve(fpr, tpr, label, threshold=None):\n",
        "  plt.plot(fpr, tpr, linewidth=2, label=label)\n",
        "  plt.plot([0,1],[0,1], 'k--') \n",
        "  plt.xlabel('false positive rate')\n",
        "  plt.ylabel('true positive rate')\n",
        "  plt.legend(loc='lower right')\n",
        "\n",
        "plot_roc_curve(fpr, tpr, \"model1\", threshold)\n",
        "plot_roc_curve(fpr2, tpr2, \"model2\", threshold2)\n",
        "plot_roc_curve(fpr3, tpr3, \"model3\", threshold3)\n",
        "plt.show()\n",
        "\n",
        "print(\"AUC model 1: \", roc_auc_score(y_test, model1.predict(X_test)))\n",
        "print(\"AUC model 2: \", roc_auc_score(y_test, model2.predict(X_test)))\n",
        "print(\"AUC model 3: \", roc_auc_score(y_test, model3.predict(X_test)))"
      ]
    }
  ],
  "metadata": {
    "colab": {
      "collapsed_sections": [],
      "name": "Copy of exam.ipynb",
      "provenance": []
    },
    "kernelspec": {
      "display_name": "Python 3",
      "name": "python3"
    },
    "language_info": {
      "name": "python"
    }
  },
  "nbformat": 4,
  "nbformat_minor": 0
}